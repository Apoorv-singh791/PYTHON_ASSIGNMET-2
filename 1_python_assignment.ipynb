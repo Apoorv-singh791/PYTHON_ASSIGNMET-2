{
 "cells": [
  {
   "cell_type": "markdown",
   "id": "4ff8bf84-e200-4907-84ba-c4cc396fc50e",
   "metadata": {},
   "source": [
    "Q1. Write a Python program to find words which are greater than given length k?"
   ]
  },
  {
   "cell_type": "code",
   "execution_count": 13,
   "id": "a0a547f9-cfd9-4cf3-bdf0-a88ae14a06aa",
   "metadata": {},
   "outputs": [
    {
     "name": "stdin",
     "output_type": "stream",
     "text": [
      "ENTER A STRING :  MY NAME IS APOORV SINGH\n",
      "ENTER THE LENGTH :  3\n"
     ]
    },
    {
     "name": "stdout",
     "output_type": "stream",
     "text": [
      "NAME\n",
      "APOORV\n",
      "SINGH\n"
     ]
    }
   ],
   "source": [
    "strin=input(\"ENTER A STRING : \")\n",
    "k=int(input(\"ENTER THE LENGTH : \"))\n",
    "a=strin.split()\n",
    "# print(a)//\n",
    "for i in a:\n",
    "    if(len(i)>k):\n",
    "        print(i)"
   ]
  },
  {
   "cell_type": "markdown",
   "id": "0e37e13d-edfc-4511-9481-1b228876d84d",
   "metadata": {},
   "source": [
    "Q2. Write a Python program for removing i-th character from a string?"
   ]
  },
  {
   "cell_type": "code",
   "execution_count": 6,
   "id": "c16d1872-e2bb-4b32-bd90-5a8a512eb820",
   "metadata": {},
   "outputs": [
    {
     "name": "stdin",
     "output_type": "stream",
     "text": [
      "ENTER A STRING :  my name is apoorv singh \n",
      "ENTER THE i-th character from a string WHICH YOU WANT TO DELETE :  5\n"
     ]
    },
    {
     "name": "stdout",
     "output_type": "stream",
     "text": [
      "my nae is apoorv singh \n"
     ]
    }
   ],
   "source": [
    "strn=input(\"ENTER A STRING : \")\n",
    "new=\"\"\n",
    "i=int(input(\"ENTER THE i-th character from a string WHICH YOU WANT TO DELETE : \"))\n",
    "b=list(strn)\n",
    "del(b[i])\n",
    "for i in range(len(b)):\n",
    "    new=new+b[i]\n",
    "print(new)"
   ]
  },
  {
   "cell_type": "markdown",
   "id": "5da6f0d6-d1dc-4c42-b7a6-6bb20f30f980",
   "metadata": {},
   "source": [
    "Q3. Write a Python program to split and join a string?"
   ]
  },
  {
   "cell_type": "code",
   "execution_count": 12,
   "id": "a8ca2ecb-7cdd-491e-9f10-94c912ffc4c3",
   "metadata": {},
   "outputs": [
    {
     "name": "stdout",
     "output_type": "stream",
     "text": [
      "['my', 'name', 'is', 'apoorv', 'singh']\n",
      "my name is apoorv singh\n"
     ]
    }
   ],
   "source": [
    "a=\"my name is apoorv singh \"\n",
    "b=a.split()\n",
    "print(b)\n",
    "print(\" \".join(b))"
   ]
  },
  {
   "cell_type": "markdown",
   "id": "2ee87584-06f6-4abc-85f8-875c2d0fefbc",
   "metadata": {},
   "source": [
    "Q4. Write a Python to check if a given string is binary string or not?"
   ]
  },
  {
   "cell_type": "code",
   "execution_count": 63,
   "id": "e2699f1f-7bcb-4eff-a65d-f59f25e39f2e",
   "metadata": {},
   "outputs": [
    {
     "name": "stdin",
     "output_type": "stream",
     "text": [
      "ENTER A STRING :  101010101\n"
     ]
    },
    {
     "name": "stdout",
     "output_type": "stream",
     "text": [
      " given string is binary string \n"
     ]
    }
   ],
   "source": [
    "a=input(\"ENTER A STRING : \")\n",
    "b=\"01\"\n",
    "for i in a:\n",
    "    if i not in b:\n",
    "        c=False\n",
    "        break\n",
    "    else:\n",
    "        c=True\n",
    "if(c==True):\n",
    "    print(\" given string is binary string \")\n",
    "else:\n",
    "    print(\" given string is not  binary string \")"
   ]
  },
  {
   "cell_type": "markdown",
   "id": "7a11bea6-691b-4109-bfa7-59cfeef4811d",
   "metadata": {},
   "source": [
    "Q5. Write a Python program to find uncommon words from two Strings?"
   ]
  },
  {
   "cell_type": "code",
   "execution_count": 78,
   "id": "05931f2d-4429-4a5b-8d2d-9cd6b7aa7e60",
   "metadata": {},
   "outputs": [
    {
     "name": "stdin",
     "output_type": "stream",
     "text": [
      "ENTER A STRING :  i am apoorv and i am not apoorva\n"
     ]
    },
    {
     "name": "stdout",
     "output_type": "stream",
     "text": [
      " UNCOMMON WORDS ARE :  and not apoorva \n"
     ]
    }
   ],
   "source": [
    "strn=input(\"ENTER A STRING : \")\n",
    "j=0\n",
    "s=\" \"\n",
    "a=strn.split()\n",
    "for i in a:\n",
    "    b=strn.count(i)\n",
    "    if (b<=1):\n",
    "        s=s+a[j]+\" \"\n",
    "        j=j+1\n",
    "    else:\n",
    "        j=j+1\n",
    "print(f\" UNCOMMON WORDS ARE : {s}\")"
   ]
  },
  {
   "cell_type": "markdown",
   "id": "287f36fc-1ae8-4c63-b18c-c99df7fba0be",
   "metadata": {},
   "source": [
    "Q6. Write a Python to find all duplicate characters in string?"
   ]
  },
  {
   "cell_type": "code",
   "execution_count": 86,
   "id": "5baf1bd8-4ab2-4be7-8fa8-355bb7f83230",
   "metadata": {},
   "outputs": [
    {
     "name": "stdin",
     "output_type": "stream",
     "text": [
      "ENTER A STRING :  i am not only apoorv i am apoorv singh\n"
     ]
    },
    {
     "name": "stdout",
     "output_type": "stream",
     "text": [
      "DUPLICATE WORDS ARE : {'apoorv', 'i', 'am'}\n"
     ]
    }
   ],
   "source": [
    "strn=input(\"ENTER A STRING : \")\n",
    "j=0\n",
    "s=\" \"\n",
    "a=strn.split()\n",
    "for i in a:\n",
    "    b=strn.count(i)\n",
    "    if (b>1):\n",
    "        s=s+a[j]+\" \"\n",
    "        j=j+1\n",
    "    else:\n",
    "        j=j+1\n",
    "c=s.split()\n",
    "d=set(c)\n",
    "print(f\"DUPLICATE WORDS ARE : {d}\")"
   ]
  },
  {
   "cell_type": "markdown",
   "id": "ff38497c-aa24-4749-a42a-c9b0d566feea",
   "metadata": {},
   "source": [
    "Q7. Write a Python Program to check if a string contains any special character?"
   ]
  },
  {
   "cell_type": "code",
   "execution_count": 94,
   "id": "cc59d882-3553-4245-9a3b-0cecd3d2cace",
   "metadata": {},
   "outputs": [
    {
     "name": "stdin",
     "output_type": "stream",
     "text": [
      "ENTER A STRING :  apoorvsingh791@gmail.com\n"
     ]
    },
    {
     "name": "stdout",
     "output_type": "stream",
     "text": [
      "STRING CONTAIN SPECIAL CHARACTER\n"
     ]
    }
   ],
   "source": [
    "symbols =\"qwertyuioplkjhgfdsazxcvbnmQWERTYUIOPLKJHGFDSAZXCVBNM1234567890 \"\n",
    "strng=input(\"ENTER A STRING : \")\n",
    "for i in strng:\n",
    "    if i not in symbols:\n",
    "        a=False\n",
    "        break\n",
    "    else:\n",
    "        a=True\n",
    "if a==True:\n",
    "    print(\"STRING DO NOT CONTAIN ANY SPECIAL CHARACTER\")\n",
    "else:\n",
    "    print(\"STRING CONTAIN SPECIAL CHARACTER\")"
   ]
  },
  {
   "cell_type": "markdown",
   "id": "0f10b159-5b56-4c4d-95ad-71c141fe88b0",
   "metadata": {},
   "source": [
    "Q8. Write a Python program to Extract Unique values dictionary values?"
   ]
  },
  {
   "cell_type": "code",
   "execution_count": 14,
   "id": "b5725220-d170-49e8-aa6d-3fc5cb5cde33",
   "metadata": {},
   "outputs": [
    {
     "name": "stdout",
     "output_type": "stream",
     "text": [
      "{1, 2, 3, 4, 5, 6, 'o', 'v', 'r', 'a', 'p'}\n"
     ]
    }
   ],
   "source": [
    "div={'a':[1,2,3],'b':[2,3,4,5,6],'c':\"apoorv\"}\n",
    "l=[]\n",
    "for i in div:\n",
    "    a=div[i]\n",
    "    for j in a:\n",
    "        l.append(j)\n",
    "print(set(l))"
   ]
  },
  {
   "cell_type": "markdown",
   "id": "bcd915dc-080b-4d95-b7c7-2ca52552bf53",
   "metadata": {},
   "source": [
    "Q9. Write a Python program to find the sum of all items in a dictionary?"
   ]
  },
  {
   "cell_type": "code",
   "execution_count": 32,
   "id": "fe35c620-0a5b-4121-9013-9e71bfbab5dd",
   "metadata": {},
   "outputs": [
    {
     "name": "stdout",
     "output_type": "stream",
     "text": [
      "the sum of all items in a dictionary is 61\n"
     ]
    }
   ],
   "source": [
    "div={'a':[1,2,3],'b':[2,3,4,5,6],'c':[5,6,7,8,9]}\n",
    "l=[]\n",
    "b=0\n",
    "for i in div:\n",
    "    a=div[i]\n",
    "    for j in a:\n",
    "        l.append(j)\n",
    "for k in l:\n",
    "    b=b+k\n",
    "print(f\"the sum of all items in a dictionary is {b}\")"
   ]
  },
  {
   "cell_type": "markdown",
   "id": "c78841de-5bad-48ce-b0d3-552dd637e116",
   "metadata": {},
   "source": [
    "Q10. Write a Python program for Merging two Dictionaries?"
   ]
  },
  {
   "cell_type": "code",
   "execution_count": 33,
   "id": "c089fe23-7aec-4bb3-a8de-9f9b9fc269a1",
   "metadata": {},
   "outputs": [
    {
     "name": "stdout",
     "output_type": "stream",
     "text": [
      "{'name': 'apoorv singh', 'class': 'section A (CSE)', 'roll no.': 2101610100645, 'subject': 'python', 'course': 'data science', 'duration': '2 years'}\n",
      "{'name': 'apoorv singh', 'class': 'section A (CSE)', 'roll no.': 2101610100645, 'subject': 'python', 'course': 'data science', 'duration': '2 years'}\n"
     ]
    }
   ],
   "source": [
    "dic1={'name':'apoorv singh','class':'section A (CSE)','roll no.':2101610100645}\n",
    "dic2={'subject':'python','course':'data science','duration':'2 years'}\n",
    "print(dic1 | dic2)\n",
    "dic1.update(dic2)\n",
    "print(dic1)"
   ]
  },
  {
   "cell_type": "markdown",
   "id": "a9355bab-a50f-4891-a920-ed11b2b7e7c8",
   "metadata": {},
   "source": [
    "Q11. Write a Python program to convert key-values list to flat dictionary?"
   ]
  },
  {
   "cell_type": "code",
   "execution_count": 57,
   "id": "dfee7551-8c05-4a1c-bf63-dadce8b296f2",
   "metadata": {},
   "outputs": [
    {
     "name": "stdout",
     "output_type": "stream",
     "text": [
      "THE FLAT DICTIONARY IS :{1: 'c', 2: 'd', 3: 'e', 4: 'f'}\n"
     ]
    }
   ],
   "source": [
    "d={'a':[1,2,3,4],'b':['c','d','e','f']}\n",
    "dic=list(d.values())\n",
    "x=dic[0]\n",
    "y=dic[1]\n",
    "z=dict()\n",
    "for i in range(0,len(x)):\n",
    "    z[x[i]]=y[i]\n",
    "print(f\"THE FLAT DICTIONARY IS :{z}\")"
   ]
  },
  {
   "cell_type": "markdown",
   "id": "a6e05198-a4ef-4986-acb3-d625c35938a0",
   "metadata": {},
   "source": [
    "Q12. Write a Python program to insertion at the beginning in OrderedDict?"
   ]
  },
  {
   "cell_type": "code",
   "execution_count": 4,
   "id": "6ef38648-fc7e-466d-b280-19c07a85f9b2",
   "metadata": {},
   "outputs": [
    {
     "name": "stdout",
     "output_type": "stream",
     "text": [
      "Resultant Dictionary : OrderedDict([('manjeet', '3'), ('akshat', '1'), ('nikhil', '2')])\n"
     ]
    }
   ],
   "source": [
    "from collections import OrderedDict\n",
    "iniordered_dict = OrderedDict([('akshat', '1'), ('nikhil', '2')])\n",
    "iniordered_dict.update({'manjeet':'3'})\n",
    "iniordered_dict.move_to_end('manjeet', last = False)\n",
    "print (\"Resultant Dictionary : \"+str(iniordered_dict))"
   ]
  },
  {
   "cell_type": "markdown",
   "id": "3cc6f3a6-3106-4897-8707-174a66f92d97",
   "metadata": {},
   "source": [
    "Q13. Write a Python program to check order of character in string using OrderedDict()?"
   ]
  },
  {
   "cell_type": "code",
   "execution_count": 5,
   "id": "410dddd1-3891-4bba-979a-e5a63b2619ae",
   "metadata": {},
   "outputs": [
    {
     "name": "stdout",
     "output_type": "stream",
     "text": [
      "True\n"
     ]
    }
   ],
   "source": [
    "def check_order(string, pattern):\n",
    "    i, j = 0, 0\n",
    "    for char in string:\n",
    "        if char == pattern[j]:\n",
    "            j += 1\n",
    "        if j == len(pattern):\n",
    "            return True\n",
    "        i += 1\n",
    " \n",
    "    return False\n",
    "string = 'engineers rock'\n",
    "pattern = 'er'\n",
    "print(check_order(string, pattern))"
   ]
  },
  {
   "cell_type": "markdown",
   "id": "2b6e2e6f-d435-4c32-877f-1a07458c009d",
   "metadata": {},
   "source": [
    "Q14. Write a Python program to sort Python Dictionaries by Key or Value?"
   ]
  },
  {
   "cell_type": "code",
   "execution_count": 10,
   "id": "731f2b50-5812-4b92-8dcb-6887ded36b1b",
   "metadata": {},
   "outputs": [
    {
     "data": {
      "text/plain": [
       "[('apple', 10), ('banana', 5), ('lemon', 15), ('orange', 20)]"
      ]
     },
     "execution_count": 10,
     "metadata": {},
     "output_type": "execute_result"
    }
   ],
   "source": [
    "d = {'apple': 10, 'orange': 20, 'banana': 5, 'lemon': 15}\n",
    "sorted(d.items())\n",
    "prit"
   ]
  },
  {
   "cell_type": "code",
   "execution_count": null,
   "id": "77386720-91dd-41cc-bcbd-360a484b4243",
   "metadata": {},
   "outputs": [],
   "source": []
  }
 ],
 "metadata": {
  "kernelspec": {
   "display_name": "Python 3 (ipykernel)",
   "language": "python",
   "name": "python3"
  },
  "language_info": {
   "codemirror_mode": {
    "name": "ipython",
    "version": 3
   },
   "file_extension": ".py",
   "mimetype": "text/x-python",
   "name": "python",
   "nbconvert_exporter": "python",
   "pygments_lexer": "ipython3",
   "version": "3.10.8"
  }
 },
 "nbformat": 4,
 "nbformat_minor": 5
}
